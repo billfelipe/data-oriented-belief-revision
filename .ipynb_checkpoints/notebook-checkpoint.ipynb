{
 "cells": [
  {
   "cell_type": "code",
   "execution_count": 1,
   "metadata": {},
   "outputs": [],
   "source": [
    "import pandas as pd;\n",
    "import matplotlib.pyplot as plt\n",
    "import numpy as np"
   ]
  },
  {
   "cell_type": "code",
   "execution_count": 2,
   "metadata": {},
   "outputs": [],
   "source": [
    "RULES_SCENARIO = [\"rules per goal = 3.csv\" , \n",
    "          \"rules per goal = 4.csv\" , \n",
    "          \"rules per goal = 5.csv\"]\n",
    "\n",
    "GOALS_BELIEFS_SCENARIO = [ \"goals=100 beliefs=500.csv\" , \n",
    "          \"goals=100 beliefs=1000.csv\", \n",
    "          \"goals=50 beliefs=1000.csv\"]\n",
    "\n",
    "DYNAMICS_SCENARIO = [ \"dynamics = 0.csv\",\n",
    "         \"dynamics = 0.1.csv\" , \n",
    "          \"dynamics = 0.2.csv\"]\n",
    "\n",
    "DEFAULT = 0 ; STORING = 1 ; FORGETTING = 2;\n",
    "\n",
    "memoryStrategies = [ \"DEFAULT\" , \"STORING_RETRIEVING\"  , \"FORGETTING\"];\n",
    "engines = [\"SOAREngine\" , \"BDIEngine\" , \"BBGPEngine\"];\n",
    "\n",
    "SOAR = 0 ; BDI = 1 ; BBGP = 2;\n",
    "\n",
    "relevanceModels = [\"DefaultRelevanceModel\" , \n",
    "                   \"SOARIntegratedRelevanceModel\",\n",
    "                   \"BDIIntegratedRelevanceModel\" ,\n",
    "                  \"BBGPIntegratedRelevanceModel\" ];\n",
    "\n",
    "efficiencyProperties = [\"memEfficiency\" , \"cpuEfficiency\"];\n",
    "\n",
    "MEM = 0 ; CPU = 1;"
   ]
  },
  {
   "cell_type": "code",
   "execution_count": 3,
   "metadata": {},
   "outputs": [],
   "source": [
    "def select(memoryStrategy , engine, relevanceModel , data):\n",
    "    \n",
    "    return data.loc[(data['memoryStrategy'].str.contains(memoryStrategy)) \n",
    "                   & (data['relevanceModel'].str.contains(relevanceModel))\n",
    "                     & (data['engine'].str.contains(engine))]"
   ]
  },
  {
   "cell_type": "code",
   "execution_count": 4,
   "metadata": {},
   "outputs": [],
   "source": [
    "def describe(memoryStrategy , engine, relevanceModel , efficiencyProperty, data):\n",
    "    return select(memoryStrategy , engine , relevanceModel , data)[efficiencyProperty].describe()[['mean' , 'std' , 'min' , '25%', '50%', '75%','max']];\n",
    "\n",
    "def describeMem(memoryStrategy , engine, relevanceModel, data):\n",
    "    return describe(memoryStrategy , engine, relevanceModel , efficiencyProperties[0], data);\n",
    "\n",
    "def describeCpu(memoryStrategy , engine, relevanceModel , data):\n",
    "    return describe(memoryStrategy , engine, relevanceModel , efficiencyProperties[1], data);\n"
   ]
  },
  {
   "cell_type": "code",
   "execution_count": 5,
   "metadata": {},
   "outputs": [],
   "source": [
    "def describeMemPerEngine(engineIndex , data):\n",
    "    default = describeMem(memoryStrategies[0] , engines[engineIndex] , relevanceModels[0] , data);\n",
    "    defaultIntegrated = describeMem(memoryStrategies[0] , engines[engineIndex] , relevanceModels[engineIndex+1], data);\n",
    "    storing = describeMem(memoryStrategies[1] , engines[engineIndex] , relevanceModels[0], data);\n",
    "    storingIntegrated = describeMem(memoryStrategies[1] , engines[engineIndex] , relevanceModels[engineIndex+1], data);\n",
    "    oblivion = describeMem(memoryStrategies[2] , engines[engineIndex] , relevanceModels[0], data);\n",
    "    oblivionIntegrated = describeMem(memoryStrategies[2] , engines[engineIndex] , relevanceModels[engineIndex+1], data);\n",
    "    return createDataFrame(default, defaultIntegrated,\n",
    "                           storing, storingIntegrated,\n",
    "                           oblivion, oblivionIntegrated);\n",
    "    \n",
    "def describeCpuPerEngine(engineIndex , data):\n",
    "    default = describeCpu(memoryStrategies[0] , engines[engineIndex] , relevanceModels[0], data);\n",
    "    defaultIntegrated = describeCpu(memoryStrategies[0] , engines[engineIndex] , relevanceModels[engineIndex+1], data);\n",
    "    storing = describeCpu(memoryStrategies[1] , engines[engineIndex] , relevanceModels[0], data);\n",
    "    storingIntegrated = describeCpu(memoryStrategies[1] , engines[engineIndex] , relevanceModels[engineIndex+1], data);\n",
    "    oblivion = describeCpu(memoryStrategies[2] , engines[engineIndex] , relevanceModels[0], data);\n",
    "    oblivionIntegrated = describeCpu(memoryStrategies[2] , engines[engineIndex] , relevanceModels[engineIndex+1], data);\n",
    "    return createDataFrame(default, defaultIntegrated, \n",
    "                           storing, storingIntegrated, \n",
    "                           oblivion, oblivionIntegrated);   "
   ]
  },
  {
   "cell_type": "code",
   "execution_count": 6,
   "metadata": {},
   "outputs": [],
   "source": [
    "def createDataFrame(default, defaultIntegrated,\n",
    "                           storing, storingIntegrated,\n",
    "                           oblivion, oblivionIntegrated):\n",
    "    return pd.DataFrame(list(zip(default, defaultIntegrated, \n",
    "                           storing, storingIntegrated, \n",
    "                           oblivion, oblivionIntegrated)), \n",
    "                             columns =['Def', 'Int',\n",
    "                                       'Def', 'Int',\n",
    "                                       'Def', 'Int'] , \n",
    "                             index = ['média' , 'desvio' , 'min' , '25%', '50%', '75%','máx']);\n",
    "    "
   ]
  },
  {
   "cell_type": "code",
   "execution_count": 7,
   "metadata": {},
   "outputs": [],
   "source": [
    "props = dict(linewidth=2)\n",
    "\n",
    "def plotGraphCpu(scenarioSheets, ENGINE_INDEX):\n",
    "    fig, axes = plt.subplots(nrows = 1, ncols= 3 , figsize=(14,5), sharey= True, tight_layout = True)\n",
    "    for x in scenarioSheets:\n",
    "        data = pd.read_csv(x , sep =\";\", decimal =\",\")\n",
    "        dataPerEngine = describeCpuPerEngine(ENGINE_INDEX , data);\n",
    "        plot = dataPerEngine.plot.box(ax=axes[scenarioSheets.index(x)] ,title=x , boxprops=props).set_ylim(0,4);\n",
    "\n",
    "        \n",
    "def plotGraphMem(scenarioSheets, ENGINE_INDEX):\n",
    "    fig, axes = plt.subplots(nrows = 1, ncols= 3 , figsize=(14,5), sharey= True, tight_layout = True)\n",
    "    for x in scenarioSheets:\n",
    "        data = pd.read_csv(x , sep =\";\", decimal =\",\")\n",
    "        dataPerEngine = describeCpuPerEngine(ENGINE_INDEX , data);\n",
    "        dataPerEngine.plot.box(ax=axes[scenarioSheets.index(x)] ,title=x).set_ylim(0,0.07);"
   ]
  },
  {
   "cell_type": "code",
   "execution_count": 11,
   "metadata": {},
   "outputs": [
    {
     "data": {
      "image/png": "[encoded data removed]",
      "text/plain": [
       "<Figure size 1008x360 with 3 Axes>"
      ]
     },
     "metadata": {
      "needs_background": "light"
     },
     "output_type": "display_data"
    }
   ],
   "source": [
    "plotGraphCpu(DYNAMICS_SCENARIO,BDI);"
   ]
  },
  {
   "cell_type": "code",
   "execution_count": 57,
   "metadata": {},
   "outputs": [],
   "source": [
    "data = pd.read_csv(DYNAMICS_SCENARIO[2], sep =\";\", decimal =\",\")\n",
    "teste = data.groupby([\"relevanceModel\" , \"engine\" , \"memoryStrategy\" , \"storing\" , \"retrieving\" , \"oblivion\"]).agg({'cpuEfficiency': ['mean', 'std']})\n",
    "pd.set_option(\"display.max_rows\", None, \"display.max_columns\", None)\n",
    "teste.to_excel(\"output.xlsx\") "
   ]
  },
  {
   "cell_type": "code",
   "execution_count": 22,
   "metadata": {},
   "outputs": [
    {
     "name": "stdout",
     "output_type": "stream",
     "text": [
      "stat=204800.000, p=0.500\n",
      "Probably the same distribution\n"
     ]
    }
   ],
   "source": [
    "valores = pd.read_csv(DYNAMICS_SCENARIO[2] , sep =\";\", decimal =\",\")\n",
    "dist1 = select(memoryStrategies[FORGETTING] , engines[BBGP], relevanceModels[0] , valores)[efficiencyProperties[CPU]]\n",
    "dist1 = np.nan_to_num(dist1)\n",
    "dist2 = select(memoryStrategies[FORGETTING] , engines[BBGP], relevanceModels[3] , valores)[efficiencyProperties[CPU]]\n",
    "dist2 = np.nan_to_num(dist1)\n",
    "\n",
    "#memoryStrategies = [ \"DEFAULT\" , \"STORING_RETRIEVING\"  , \"FORGETTING\"];\n",
    "#engines = [\"SOAREngine\" , \"BDIEngine\" , \"BBGPEngine\"];\n",
    "#relevanceModels = [\"DefaultRelevanceModel\" , \n",
    "#                   \"SOARIntegratedRelevanceModel\",\n",
    "#                   \"BDIIntegratedRelevanceModel\" ,\n",
    "#                  \"BBGPIntegratedRelevanceModel\" ];\n",
    "\n",
    "#alternativeModels = [\"SOARAlternativeRelevanceModel\",\n",
    "#                   \"BDIAlternativeRelevanceModel\" ,\n",
    "#                  \"BBGPAlternativeRelevanceModel\" ];\n",
    "\n",
    "from scipy.stats import mannwhitneyu\n",
    "stat , p = mannwhitneyu(dist1 , dist2)\n",
    "print('stat=%.3f, p=%.3f' % (stat, p))\n",
    "if p > 0.05:\n",
    "\tprint('Probably the same distribution')\n",
    "else:\n",
    "\tprint('Probably different distributions')\n"
   ]
  },
  {
   "cell_type": "code",
   "execution_count": 18,
   "metadata": {},
   "outputs": [
    {
     "ename": "NameError",
     "evalue": "name 'dist3' is not defined",
     "output_type": "error",
     "traceback": [
      "\u001b[1;31m---------------------------------------------------------------------------\u001b[0m",
      "\u001b[1;31mNameError\u001b[0m                                 Traceback (most recent call last)",
      "\u001b[1;32m<ipython-input-18-fee58b018d5b>\u001b[0m in \u001b[0;36m<module>\u001b[1;34m\u001b[0m\n\u001b[1;32m----> 1\u001b[1;33m \u001b[0mstat\u001b[0m \u001b[1;33m,\u001b[0m \u001b[0mp\u001b[0m \u001b[1;33m=\u001b[0m \u001b[0mkruskal\u001b[0m\u001b[1;33m(\u001b[0m\u001b[0mdist1\u001b[0m \u001b[1;33m,\u001b[0m \u001b[0mdist3\u001b[0m\u001b[1;33m)\u001b[0m\u001b[1;33m\u001b[0m\u001b[1;33m\u001b[0m\u001b[0m\n\u001b[0m\u001b[0;32m      2\u001b[0m \u001b[0mprint\u001b[0m\u001b[1;33m(\u001b[0m\u001b[1;34m'stat=%.3f, p=%.3f'\u001b[0m \u001b[1;33m%\u001b[0m \u001b[1;33m(\u001b[0m\u001b[0mstat\u001b[0m\u001b[1;33m,\u001b[0m \u001b[0mp\u001b[0m\u001b[1;33m)\u001b[0m\u001b[1;33m)\u001b[0m\u001b[1;33m\u001b[0m\u001b[1;33m\u001b[0m\u001b[0m\n\u001b[0;32m      3\u001b[0m \u001b[1;32mif\u001b[0m \u001b[0mp\u001b[0m \u001b[1;33m>\u001b[0m \u001b[1;36m0.05\u001b[0m\u001b[1;33m:\u001b[0m\u001b[1;33m\u001b[0m\u001b[1;33m\u001b[0m\u001b[0m\n\u001b[0;32m      4\u001b[0m         \u001b[0mprint\u001b[0m\u001b[1;33m(\u001b[0m\u001b[1;34m'Probably the same distribution'\u001b[0m\u001b[1;33m)\u001b[0m\u001b[1;33m\u001b[0m\u001b[1;33m\u001b[0m\u001b[0m\n\u001b[0;32m      5\u001b[0m \u001b[1;32melse\u001b[0m\u001b[1;33m:\u001b[0m\u001b[1;33m\u001b[0m\u001b[1;33m\u001b[0m\u001b[0m\n",
      "\u001b[1;31mNameError\u001b[0m: name 'dist3' is not defined"
     ]
    }
   ],
   "source": [
    "stat , p = mannwhitneyu(dist1 , dist3)\n",
    "print('stat=%.3f, p=%.3f' % (stat, p))\n",
    "if p > 0.05:\n",
    "\tprint('Probably the same distribution')\n",
    "else:\n",
    "\tprint('Probably different distributions')\n"
   ]
  },
  {
   "cell_type": "code",
   "execution_count": 19,
   "metadata": {},
   "outputs": [
    {
     "data": {
      "text/plain": [
       "tipoDeRaciocinio  tipoDeMemoria         modeloDeRelevancia            \n",
       " BBGPEngine        DEFAULT              BBGPAlternativeRelevanceModel      2.798814\n",
       "                                        BBGPIntegratedRelevanceModel       3.575836\n",
       "                   FORGETTING           BBGPAlternativeRelevanceModel      0.762856\n",
       "                                        BBGPIntegratedRelevanceModel      19.016668\n",
       "                   STORING_RETRIEVING   BBGPAlternativeRelevanceModel     47.524711\n",
       "                                        BBGPIntegratedRelevanceModel      74.988054\n",
       " BDIEngine         DEFAULT              BDIAlternativeRelevanceModel       2.758664\n",
       "                                        BDIIntegratedRelevanceModel        3.920731\n",
       "                   FORGETTING           BDIAlternativeRelevanceModel       0.752106\n",
       "                                        BDIIntegratedRelevanceModel       45.245913\n",
       "                   STORING_RETRIEVING   BDIAlternativeRelevanceModel      31.728122\n",
       "                                        BDIIntegratedRelevanceModel       42.410354\n",
       " SOAREngine        DEFAULT              SOARAlternativeRelevanceModel      2.252198\n",
       "                                        SOARIntegratedRelevanceModel       3.815463\n",
       "                   FORGETTING           SOARAlternativeRelevanceModel      0.278024\n",
       "                                        SOARIntegratedRelevanceModel      26.991078\n",
       "                   STORING_RETRIEVING   SOARAlternativeRelevanceModel     24.401080\n",
       "                                        SOARIntegratedRelevanceModel      32.345632\n",
       "Name: eficienciaCpu, dtype: float64"
      ]
     },
     "execution_count": 19,
     "metadata": {},
     "output_type": "execute_result"
    }
   ],
   "source": [
    "data = pd.read_csv(sheets[9] , sep =\";\", decimal =\",\")\n",
    "select(memoryStrategy , engine, relevanceModel , data)"
   ]
  }
 ],
 "metadata": {
  "kernelspec": {
   "display_name": "Python 3",
   "language": "python",
   "name": "python3"
  },
  "language_info": {
   "codemirror_mode": {
    "name": "ipython",
    "version": 3
   },
   "file_extension": ".py",
   "mimetype": "text/x-python",
   "name": "python",
   "nbconvert_exporter": "python",
   "pygments_lexer": "ipython3",
   "version": "3.8.5"
  }
 },
 "nbformat": 4,
 "nbformat_minor": 5
}
