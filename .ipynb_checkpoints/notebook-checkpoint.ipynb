{
 "cells": [
  {
   "cell_type": "code",
   "execution_count": 108,
   "id": "adequate-concentrate",
   "metadata": {},
   "outputs": [],
   "source": [
    "import pandas as pd;"
   ]
  },
  {
   "cell_type": "code",
   "execution_count": 109,
   "id": "artistic-generic",
   "metadata": {},
   "outputs": [],
   "source": [
    "sheets = [\"rulespergoal8.csv\" , \"rulespergoal5.csv\" , \"rulespergoal3.csv\" , \"goals100beliefs1000.csv\"];\n",
    "sheet = pd.read_csv(sheets[0] , sep =\";\", decimal =\",\")"
   ]
  },
  {
   "cell_type": "code",
   "execution_count": 123,
   "id": "northern-gospel",
   "metadata": {},
   "outputs": [],
   "source": [
    "tipoMemoria = [ \"DEFAULT\" , \"STORING_RETRIEVING\"  , \"FORGETTING\"];\n",
    "DEFAULT = 0; STORING = 1; FORGETTING = 2;\n",
    "tipoRaciocinio = [\"SOAREngine\" , \"BDIEngine\" , \"BBGPEngine\"];\n",
    "SOAR = 0; BDI = 1; BBGP = 2;\n",
    "tipoModeloRelevancia = [\"DefaultRelevanceModel\" , \"BBGPIntegratedRelevanceModel\" ,\n",
    "                         \"BDIIntegratedRelevanceModel\" , \"SOARIntegratedRelevanceModel \"];\n",
    "DEFAULT_MODEL = 0; BBGP_MODEL = 1; BDI_MODEL = 2; SOAR_MODEL = 3;"
   ]
  },
  {
   "cell_type": "code",
   "execution_count": 127,
   "id": "unauthorized-fantasy",
   "metadata": {},
   "outputs": [],
   "source": [
    "def filtro(tipoMemoria , tipoRaciocinio, tipoModeloRelevancia):\n",
    "    return sheet.loc[(a['tipoDeMemoria'].str.contains(tipoMemoria)) \n",
    "                   & (a['modeloDeRelevancia'].str.contains(tipoModeloRelevancia))\n",
    "                     & (a['tipoDeRaciocinio'].str.contains(tipoRaciocinio))]"
   ]
  },
  {
   "cell_type": "code",
   "execution_count": 128,
   "id": "abroad-chinese",
   "metadata": {},
   "outputs": [],
   "source": [
    "filtrado = filtro(tipoMemoria[DEFAULT],tipoRaciocinio[SOAR], tipoModeloRelevancia[DEFAULT_MODEL]);"
   ]
  },
  {
   "cell_type": "code",
   "execution_count": 129,
   "id": "lucky-latitude",
   "metadata": {},
   "outputs": [
    {
     "data": {
      "text/plain": [
       "count    6.400000e+01\n",
       "mean     9.560000e-04\n",
       "std      1.092773e-18\n",
       "min      9.560000e-04\n",
       "25%      9.560000e-04\n",
       "50%      9.560000e-04\n",
       "75%      9.560000e-04\n",
       "max      9.560000e-04\n",
       "Name: eficienciaMemoria, dtype: float64"
      ]
     },
     "execution_count": 129,
     "metadata": {},
     "output_type": "execute_result"
    }
   ],
   "source": [
    "filtrado['eficienciaMemoria'].describe()"
   ]
  },
  {
   "cell_type": "code",
   "execution_count": 130,
   "id": "annoying-remainder",
   "metadata": {},
   "outputs": [
    {
     "data": {
      "text/plain": [
       "count    6.400000e+01\n",
       "mean     5.006268e-02\n",
       "std      4.895623e-17\n",
       "min      5.006268e-02\n",
       "25%      5.006268e-02\n",
       "50%      5.006268e-02\n",
       "75%      5.006268e-02\n",
       "max      5.006268e-02\n",
       "Name: eficienciaCpu, dtype: float64"
      ]
     },
     "execution_count": 130,
     "metadata": {},
     "output_type": "execute_result"
    }
   ],
   "source": [
    "filtrado['eficienciaCpu'].describe()"
   ]
  },
  {
   "cell_type": "code",
   "execution_count": null,
   "id": "comparative-graph",
   "metadata": {},
   "outputs": [],
   "source": []
  }
 ],
 "metadata": {
  "kernelspec": {
   "display_name": "Python 3",
   "language": "python",
   "name": "python3"
  },
  "language_info": {
   "codemirror_mode": {
    "name": "ipython",
    "version": 3
   },
   "file_extension": ".py",
   "mimetype": "text/x-python",
   "name": "python",
   "nbconvert_exporter": "python",
   "pygments_lexer": "ipython3",
   "version": "3.7.9"
  }
 },
 "nbformat": 4,
 "nbformat_minor": 5
}
