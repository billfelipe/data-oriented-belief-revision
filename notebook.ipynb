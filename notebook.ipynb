{
 "cells": [
  {
   "cell_type": "code",
   "execution_count": 108,
   "id": "missing-basket",
   "metadata": {},
   "outputs": [],
   "source": [
    "import pandas as pd;"
   ]
  },
  {
   "cell_type": "code",
   "execution_count": 131,
   "id": "first-publication",
   "metadata": {},
   "outputs": [],
   "source": [
    "sheets = [\"rulespergoal8.csv\" , \"rulespergoal5.csv\" , \"rulespergoal3.csv\" , \n",
    "          \"goals100beliefs1000.csv\" , \"goals50beliefs1000.csv\", \"goals100beliefs500.csv\",\n",
    "         \"dynamics01.csv\" , \"dynamics02.csv\"];\n",
    "RULES8 = 0 ; RULES5 = 1; RULES3 = 2; \n",
    "G100B1000 = 3 , G50B1000 = 4 ; G100B500 = \n",
    "sheet = pd.read_csv(sheets[1] , sep =\";\", decimal =\",\")"
   ]
  },
  {
   "cell_type": "code",
   "execution_count": 132,
   "id": "upper-assignment",
   "metadata": {},
   "outputs": [],
   "source": [
    "tipoMemoria = [ \"DEFAULT\" , \"STORING_RETRIEVING\"  , \"FORGETTING\"];\n",
    "DEFAULT = 0; STORING = 1; FORGETTING = 2;\n",
    "tipoRaciocinio = [\"SOAREngine\" , \"BDIEngine\" , \"BBGPEngine\"];\n",
    "SOAR = 0; BDI = 1; BBGP = 2;\n",
    "tipoModeloRelevancia = [\"DefaultRelevanceModel\" , \"BBGPIntegratedRelevanceModel\" ,\n",
    "                         \"BDIIntegratedRelevanceModel\" , \"SOARIntegratedRelevanceModel \"];\n",
    "DEFAULT_MODEL = 0; BBGP_MODEL = 1; BDI_MODEL = 2; SOAR_MODEL = 3;"
   ]
  },
  {
   "cell_type": "code",
   "execution_count": 133,
   "id": "outside-innocent",
   "metadata": {},
   "outputs": [],
   "source": [
    "def filtro(tipoMemoria , tipoRaciocinio, tipoModeloRelevancia):\n",
    "    return sheet.loc[(a['tipoDeMemoria'].str.contains(tipoMemoria)) \n",
    "                   & (a['modeloDeRelevancia'].str.contains(tipoModeloRelevancia))\n",
    "                     & (a['tipoDeRaciocinio'].str.contains(tipoRaciocinio))]"
   ]
  },
  {
   "cell_type": "code",
   "execution_count": 134,
   "id": "worse-fundamental",
   "metadata": {},
   "outputs": [],
   "source": [
    "filtrado = filtro(tipoMemoria[DEFAULT],tipoRaciocinio[SOAR], tipoModeloRelevancia[DEFAULT_MODEL]);"
   ]
  },
  {
   "cell_type": "code",
   "execution_count": 135,
   "id": "human-consumer",
   "metadata": {},
   "outputs": [
    {
     "data": {
      "text/plain": [
       "count    64.000000\n",
       "mean      0.002100\n",
       "std       0.002607\n",
       "min       0.000000\n",
       "25%       0.000000\n",
       "50%       0.000766\n",
       "75%       0.004854\n",
       "max       0.007849\n",
       "Name: eficienciaMemoria, dtype: float64"
      ]
     },
     "execution_count": 135,
     "metadata": {},
     "output_type": "execute_result"
    }
   ],
   "source": [
    "filtrado['eficienciaMemoria'].describe()"
   ]
  },
  {
   "cell_type": "code",
   "execution_count": 136,
   "id": "limited-timer",
   "metadata": {},
   "outputs": [
    {
     "data": {
      "text/plain": [
       "count    64.000000\n",
       "mean      0.079044\n",
       "std       0.079779\n",
       "min       0.000000\n",
       "25%       0.000000\n",
       "50%       0.081206\n",
       "75%       0.126738\n",
       "max       0.345461\n",
       "Name: eficienciaCpu, dtype: float64"
      ]
     },
     "execution_count": 136,
     "metadata": {},
     "output_type": "execute_result"
    }
   ],
   "source": [
    "filtrado['eficienciaCpu'].describe()"
   ]
  },
  {
   "cell_type": "code",
   "execution_count": null,
   "id": "decreased-numbers",
   "metadata": {},
   "outputs": [],
   "source": []
  }
 ],
 "metadata": {
  "kernelspec": {
   "display_name": "Python 3",
   "language": "python",
   "name": "python3"
  },
  "language_info": {
   "codemirror_mode": {
    "name": "ipython",
    "version": 3
   },
   "file_extension": ".py",
   "mimetype": "text/x-python",
   "name": "python",
   "nbconvert_exporter": "python",
   "pygments_lexer": "ipython3",
   "version": "3.7.9"
  }
 },
 "nbformat": 4,
 "nbformat_minor": 5
}
